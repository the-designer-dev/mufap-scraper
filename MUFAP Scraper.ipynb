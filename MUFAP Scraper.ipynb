{
 "cells": [
  {
   "cell_type": "code",
   "execution_count": 1,
   "metadata": {},
   "outputs": [],
   "source": [
    "import re\n",
    "import requests\n",
    "import pandas as pd\n",
    "from pandas import DataFrame\n",
    "import numpy as np"
   ]
  },
  {
   "cell_type": "code",
   "execution_count": 3,
   "metadata": {},
   "outputs": [
    {
     "name": "stdout",
     "output_type": "stream",
     "text": [
      "(267, 13)\n",
      "(66, 12)\n",
      "(9, 12)\n",
      "(6, 12)\n"
     ]
    }
   ],
   "source": [
    "for i in [1, 2, 4, 5]:\n",
    "    m = requests.request(\"GET\", \"http://www.mufap.com.pk/nav_returns_performance.php?tab=0\" + str (i)).text\n",
    "    m = m.replace('\\n', '').replace('\\t', '').replace('\\s+', '')\n",
    "    m = m + \"</style>\"\n",
    "    \n",
    "    x = re.findall('<table id=\"dataTable\" class=\"tab-headings1 tb-0'+str(i)+'\">(.*?)</style>', m)\n",
    "    r = []\n",
    "    for y in x:\n",
    "        tableHeading = re.findall('<td colspan=\"16\">(.*?)</td>', y)[0]\n",
    "        z = re.findall('<tr class=\"tab-data1.*?>(.*?)</tr>', y)\n",
    "        for _ in z:\n",
    "            q = re.findall('<td.*?>(.*?)</td>', _)\n",
    "            if i == 2:\n",
    "#                 if tableHeading[0] is not ' ': tableHeading = ' ' + tableHeading\n",
    "                q[0] = q[0] + ' ' + tableHeading\n",
    "#                 q[0] = q[0].replace(\"-*\\)\\(\", ' ')\n",
    "#                 q[0] = ' '.join(q[0].split())\n",
    "#                 print(q)\n",
    "            else:\n",
    "                q[0] = q[0].replace(\"\\W\", '')\n",
    "            r.append(q)\n",
    "\n",
    "    df = DataFrame.from_records(r)\n",
    "    print(df.shape)\n",
    "    if len(df.loc[0]) == 13:\n",
    "        df.columns = ['Fund Name', 'Rating', 'Validity Date', 'NAV', 'YTD', 'MTD', '1 Day', '15 Day', '30 Day', '90 Day', '180 Day', '270 Day', '365 Days']\n",
    "    elif len(df.loc[0]) == 12:\n",
    "        df.columns = ['Fund Name', 'Validity Date', 'NAV', 'YTD', 'MTD', '1 Day', '15 Day', '30 Day', '90 Day', '180 Day', '270 Day', '365 Days']\n",
    "    elif len(df.loc[0]) == 15:\n",
    "        df.columns = ['Fund Name', 'Validity Date', 'NAV', 'YTD', 'MTD', '1 Day', '15 Day', '30 Day', '90 Day', '180 Day', '270 Day', '365 Days', 'TER', 'MF', 'S&M']\n",
    "    \n",
    "    df['Fund Name'] = df['Fund Name'].str.replace('\\xa0',' ').str.replace(':', '').str.replace('-', ' ').str.replace('\\(', '').str.replace('\\)', '').str.replace('\\*', '').str.replace('\\s\\s*', ' ').str.replace('â', ' ').str.replace('', '')\n",
    "    df['365 Days'] = df['365 Days'].str.replace('\\(', '-').str.replace('\\)', '')\n",
    "    df.to_excel('mufap'+str(i)+'.xls')\n",
    "    \n",
    "    "
   ]
  }
 ],
 "metadata": {
  "kernelspec": {
   "display_name": "Python 3",
   "language": "python",
   "name": "python3"
  },
  "language_info": {
   "codemirror_mode": {
    "name": "ipython",
    "version": 3
   },
   "file_extension": ".py",
   "mimetype": "text/x-python",
   "name": "python",
   "nbconvert_exporter": "python",
   "pygments_lexer": "ipython3",
   "version": "3.8.5"
  }
 },
 "nbformat": 4,
 "nbformat_minor": 2
}
